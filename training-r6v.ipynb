{
 "cells": [
  {
   "cell_type": "code",
   "execution_count": 1,
   "id": "134c868c",
   "metadata": {
    "_kg_hide-output": true,
    "execution": {
     "iopub.execute_input": "2023-04-03T05:05:39.703721Z",
     "iopub.status.busy": "2023-04-03T05:05:39.703302Z",
     "iopub.status.idle": "2023-04-03T05:05:56.565298Z",
     "shell.execute_reply": "2023-04-03T05:05:56.562911Z"
    },
    "id": "wbvMlHd_QwMG",
    "outputId": "484dd5f5-a33e-4e56-ac20-10dc71b36009",
    "papermill": {
     "duration": 16.869155,
     "end_time": "2023-04-03T05:05:56.568502",
     "exception": false,
     "start_time": "2023-04-03T05:05:39.699347",
     "status": "completed"
    },
    "tags": [],
    "vscode": {
     "languageId": "python"
    }
   },
   "outputs": [
    {
     "name": "stdout",
     "output_type": "stream",
     "text": [
      "Cloning into 'yolov5'...\r\n",
      "remote: Enumerating objects: 15365, done.\u001b[K\r\n",
      "remote: Counting objects: 100% (10/10), done.\u001b[K\r\n",
      "remote: Compressing objects: 100% (10/10), done.\u001b[K\r\n",
      "remote: Total 15365 (delta 0), reused 4 (delta 0), pack-reused 15355\u001b[K\r\n",
      "Receiving objects: 100% (15365/15365), 14.30 MiB | 16.85 MiB/s, done.\r\n",
      "Resolving deltas: 100% (10504/10504), done.\r\n",
      "/kaggle/working/yolov5\n",
      "HEAD is now at 064365d Update parse_opt() in export.py to work as in train.py (#10789)\r\n",
      "\u001b[33mWARNING: Running pip as the 'root' user can result in broken permissions and conflicting behaviour with the system package manager. It is recommended to use a virtual environment instead: https://pip.pypa.io/warnings/venv\u001b[0m\u001b[33m\r\n",
      "\u001b[0mSetup complete. Using torch 1.13.0 _CudaDeviceProperties(name='Tesla P100-PCIE-16GB', major=6, minor=0, total_memory=16280MB, multi_processor_count=56)\n",
      "/kaggle/working/yolov5\n"
     ]
    }
   ],
   "source": [
    "\n",
    "# clone YOLOv5 repository\n",
    "!git clone https://github.com/ultralytics/yolov5  # clone repo\n",
    "%cd yolov5\n",
    "!git reset --hard 064365d8683fd002e9ad789c1e91fa3d021b44f0\n",
    "# install dependencies as necessary\n",
    "!pip install -qr requirements.txt  # install dependencies (ignore errors)\n",
    "import torch\n",
    "from IPython.display import Image, clear_output  # to display images\n",
    "from utils.downloads import attempt_download  # to download models/datasets\n",
    "# clear_output()\n",
    "print('Setup complete. Using torch %s %s' % (torch.__version__, torch.cuda.get_device_properties(0) if torch.cuda.is_available() else 'CPU'))\n",
    "#follow the link below to get your download code from from Roboflow\n",
    "%cd /kaggle/working/yolov5\n",
    "\n",
    "\n"
   ]
  },
  {
   "cell_type": "code",
   "execution_count": 2,
   "id": "520abe01",
   "metadata": {
    "execution": {
     "iopub.execute_input": "2023-04-03T05:05:56.577917Z",
     "iopub.status.busy": "2023-04-03T05:05:56.576812Z",
     "iopub.status.idle": "2023-04-03T05:19:40.584001Z",
     "shell.execute_reply": "2023-04-03T05:19:40.582779Z"
    },
    "papermill": {
     "duration": 824.014303,
     "end_time": "2023-04-03T05:19:40.586747",
     "exception": false,
     "start_time": "2023-04-03T05:05:56.572444",
     "status": "completed"
    },
    "tags": []
   },
   "outputs": [
    {
     "name": "stdout",
     "output_type": "stream",
     "text": [
      "Collecting roboflow\r\n",
      "  Downloading roboflow-1.0.2-py3-none-any.whl (55 kB)\r\n",
      "\u001b[2K     \u001b[90m━━━━━━━━━━━━━━━━━━━━━━━━━━━━━━━━━━━━━━━━\u001b[0m \u001b[32m55.7/55.7 kB\u001b[0m \u001b[31m4.1 MB/s\u001b[0m eta \u001b[36m0:00:00\u001b[0m\r\n",
      "\u001b[?25hCollecting idna==2.10\r\n",
      "  Downloading idna-2.10-py2.py3-none-any.whl (58 kB)\r\n",
      "\u001b[2K     \u001b[90m━━━━━━━━━━━━━━━━━━━━━━━━━━━━━━━━━━━━━━━━\u001b[0m \u001b[32m58.8/58.8 kB\u001b[0m \u001b[31m6.3 MB/s\u001b[0m eta \u001b[36m0:00:00\u001b[0m\r\n",
      "\u001b[?25hRequirement already satisfied: python-dotenv in /opt/conda/lib/python3.7/site-packages (from roboflow) (0.21.1)\r\n",
      "Requirement already satisfied: matplotlib in /opt/conda/lib/python3.7/site-packages (from roboflow) (3.5.3)\r\n",
      "Collecting requests-toolbelt\r\n",
      "  Downloading requests_toolbelt-0.10.1-py2.py3-none-any.whl (54 kB)\r\n",
      "\u001b[2K     \u001b[90m━━━━━━━━━━━━━━━━━━━━━━━━━━━━━━━━━━━━━━━━\u001b[0m \u001b[32m54.5/54.5 kB\u001b[0m \u001b[31m5.0 MB/s\u001b[0m eta \u001b[36m0:00:00\u001b[0m\r\n",
      "\u001b[?25hCollecting pyparsing==2.4.7\r\n",
      "  Downloading pyparsing-2.4.7-py2.py3-none-any.whl (67 kB)\r\n",
      "\u001b[2K     \u001b[90m━━━━━━━━━━━━━━━━━━━━━━━━━━━━━━━━━━━━━━━━\u001b[0m \u001b[32m67.8/67.8 kB\u001b[0m \u001b[31m7.6 MB/s\u001b[0m eta \u001b[36m0:00:00\u001b[0m\r\n",
      "\u001b[?25hRequirement already satisfied: urllib3>=1.26.6 in /opt/conda/lib/python3.7/site-packages (from roboflow) (1.26.14)\r\n",
      "Collecting wget\r\n",
      "  Downloading wget-3.2.zip (10 kB)\r\n",
      "  Preparing metadata (setup.py) ... \u001b[?25l-\b \bdone\r\n",
      "\u001b[?25hRequirement already satisfied: tqdm>=4.41.0 in /opt/conda/lib/python3.7/site-packages (from roboflow) (4.64.1)\r\n",
      "Requirement already satisfied: Pillow>=7.1.2 in /opt/conda/lib/python3.7/site-packages (from roboflow) (9.4.0)\r\n",
      "Requirement already satisfied: certifi==2022.12.7 in /opt/conda/lib/python3.7/site-packages (from roboflow) (2022.12.7)\r\n",
      "Requirement already satisfied: PyYAML>=5.3.1 in /opt/conda/lib/python3.7/site-packages (from roboflow) (6.0)\r\n",
      "Requirement already satisfied: python-dateutil in /opt/conda/lib/python3.7/site-packages (from roboflow) (2.8.2)\r\n",
      "Requirement already satisfied: numpy>=1.18.5 in /opt/conda/lib/python3.7/site-packages (from roboflow) (1.21.6)\r\n",
      "Requirement already satisfied: six in /opt/conda/lib/python3.7/site-packages (from roboflow) (1.16.0)\r\n",
      "Requirement already satisfied: kiwisolver>=1.3.1 in /opt/conda/lib/python3.7/site-packages (from roboflow) (1.4.4)\r\n",
      "Collecting cycler==0.10.0\r\n",
      "  Downloading cycler-0.10.0-py2.py3-none-any.whl (6.5 kB)\r\n",
      "Requirement already satisfied: requests in /opt/conda/lib/python3.7/site-packages (from roboflow) (2.28.2)\r\n",
      "Collecting chardet==4.0.0\r\n",
      "  Downloading chardet-4.0.0-py2.py3-none-any.whl (178 kB)\r\n",
      "\u001b[2K     \u001b[90m━━━━━━━━━━━━━━━━━━━━━━━━━━━━━━━━━━━━━━\u001b[0m \u001b[32m178.7/178.7 kB\u001b[0m \u001b[31m13.7 MB/s\u001b[0m eta \u001b[36m0:00:00\u001b[0m\r\n",
      "\u001b[?25hRequirement already satisfied: opencv-python>=4.1.2 in /opt/conda/lib/python3.7/site-packages (from roboflow) (4.5.4.60)\r\n",
      "Requirement already satisfied: typing-extensions in /opt/conda/lib/python3.7/site-packages (from kiwisolver>=1.3.1->roboflow) (4.4.0)\r\n",
      "Requirement already satisfied: fonttools>=4.22.0 in /opt/conda/lib/python3.7/site-packages (from matplotlib->roboflow) (4.38.0)\r\n",
      "Requirement already satisfied: packaging>=20.0 in /opt/conda/lib/python3.7/site-packages (from matplotlib->roboflow) (23.0)\r\n",
      "Requirement already satisfied: charset-normalizer<4,>=2 in /opt/conda/lib/python3.7/site-packages (from requests->roboflow) (2.1.1)\r\n",
      "Building wheels for collected packages: wget\r\n",
      "  Building wheel for wget (setup.py) ... \u001b[?25l-\b \bdone\r\n",
      "\u001b[?25h  Created wheel for wget: filename=wget-3.2-py3-none-any.whl size=9674 sha256=689c1cfef9a7ac45b606eaa5bb53d69f64cab67395c98dc4500d073b98b78842\r\n",
      "  Stored in directory: /root/.cache/pip/wheels/e1/e8/db/ebe4dcd7d7d11208c1e4e4ef246cea4fcc8d463c93405a6555\r\n",
      "Successfully built wget\r\n",
      "Installing collected packages: wget, pyparsing, idna, cycler, chardet, requests-toolbelt, roboflow\r\n",
      "  Attempting uninstall: pyparsing\r\n",
      "    Found existing installation: pyparsing 3.0.9\r\n",
      "    Uninstalling pyparsing-3.0.9:\r\n",
      "      Successfully uninstalled pyparsing-3.0.9\r\n",
      "  Attempting uninstall: idna\r\n",
      "    Found existing installation: idna 3.4\r\n",
      "    Uninstalling idna-3.4:\r\n",
      "      Successfully uninstalled idna-3.4\r\n",
      "  Attempting uninstall: cycler\r\n",
      "    Found existing installation: cycler 0.11.0\r\n",
      "    Uninstalling cycler-0.11.0:\r\n",
      "      Successfully uninstalled cycler-0.11.0\r\n",
      "\u001b[31mERROR: pip's dependency resolver does not currently take into account all the packages that are installed. This behaviour is the source of the following dependency conflicts.\r\n",
      "librosa 0.10.0 requires soundfile>=0.12.1, but you have soundfile 0.11.0 which is incompatible.\r\n",
      "cloud-tpu-client 0.10 requires google-api-python-client==1.8.0, but you have google-api-python-client 2.79.0 which is incompatible.\r\n",
      "apache-beam 2.44.0 requires dill<0.3.2,>=0.3.1.1, but you have dill 0.3.6 which is incompatible.\u001b[0m\u001b[31m\r\n",
      "\u001b[0mSuccessfully installed chardet-4.0.0 cycler-0.10.0 idna-2.10 pyparsing-2.4.7 requests-toolbelt-0.10.1 roboflow-1.0.2 wget-3.2\r\n",
      "\u001b[33mWARNING: Running pip as the 'root' user can result in broken permissions and conflicting behaviour with the system package manager. It is recommended to use a virtual environment instead: https://pip.pypa.io/warnings/venv\u001b[0m\u001b[33m\r\n",
      "loading Roboflow workspace...\n",
      "loading Roboflow project...\n",
      "Downloading Dataset Version Zip in R6TRT-2 to yolov5pytorch: 100% [5878555463 / 5878555463] bytes\n"
     ]
    },
    {
     "name": "stderr",
     "output_type": "stream",
     "text": [
      "Extracting Dataset Version Zip to R6TRT-2 in yolov5pytorch:: 100%|██████████| 58532/58532 [00:52<00:00, 1119.38it/s]\n"
     ]
    }
   ],
   "source": [
    "!pip install roboflow\n",
    "\n",
    "from roboflow import Roboflow\n",
    "rf = Roboflow(api_key=\"BCnfaWDN6CYkVKcRG5jK\")\n",
    "project = rf.workspace(\"r6-cyj0r\").project(\"r6trt\")\n",
    "dataset = project.version(2).download(\"yolov5\")"
   ]
  },
  {
   "cell_type": "code",
   "execution_count": 3,
   "id": "f4037b06",
   "metadata": {
    "execution": {
     "iopub.execute_input": "2023-04-03T05:20:29.948288Z",
     "iopub.status.busy": "2023-04-03T05:20:29.947748Z",
     "iopub.status.idle": "2023-04-03T05:20:41.058242Z",
     "shell.execute_reply": "2023-04-03T05:20:41.056906Z"
    },
    "papermill": {
     "duration": 35.525857,
     "end_time": "2023-04-03T05:20:41.061250",
     "exception": false,
     "start_time": "2023-04-03T05:20:05.535393",
     "status": "completed"
    },
    "tags": []
   },
   "outputs": [
    {
     "name": "stdout",
     "output_type": "stream",
     "text": [
      "env: WANDB_MODE=disabled\n",
      "/kaggle/working/yolov5\n",
      "\u001b[34m\u001b[1mtrain: \u001b[0mweights=/kaggle/working/RRRR/RRRR14/weights/best.pt, cfg=./models/yolov5s.yaml, data=/kaggle/working/yolov5/r6trt-2/data.yaml, hyp=data/hyps/hyp.scratch-low.yaml, epochs=100, batch_size=-1, imgsz=1080, rect=False, resume=False, nosave=False, noval=False, noautoanchor=False, noplots=False, evolve=None, bucket=, cache=ram, image_weights=False, device=0, multi_scale=False, single_cls=False, optimizer=SGD, sync_bn=False, workers=4, project=/kaggle/working/RRRR, name=RRRR, exist_ok=False, quad=False, cos_lr=False, label_smoothing=0.0, patience=100, freeze=[10], save_period=-1, seed=0, local_rank=-1, entity=None, upload_dataset=False, bbox_interval=-1, artifact_alias=latest\r\n",
      "\u001b[34m\u001b[1mgithub: \u001b[0m⚠️ YOLOv5 is out of date by 61 commits. Use `git pull` or `git clone https://github.com/ultralytics/yolov5` to update.\r\n",
      "Traceback (most recent call last):\r\n",
      "  File \"train.py\", line 634, in <module>\r\n",
      "    main(opt)\r\n",
      "  File \"train.py\", line 503, in main\r\n",
      "    check_file(opt.data), check_yaml(opt.cfg), check_yaml(opt.hyp), str(opt.weights), str(opt.project)  # checks\r\n",
      "  File \"/kaggle/working/yolov5/utils/general.py\", line 483, in check_file\r\n",
      "    assert len(files), f'File not found: {file}'  # assert file was found\r\n",
      "AssertionError: File not found: /kaggle/working/yolov5/r6trt-2/data.yaml\r\n"
     ]
    },
    {
     "data": {
      "text/plain": [
       "' 5:20AM +0000 on Apr 03, 2023'"
      ]
     },
     "execution_count": 3,
     "metadata": {},
     "output_type": "execute_result"
    }
   ],
   "source": [
    "%env WANDB_MODE=disabled\n",
    "import time\n",
    "time.ctime() # 'Mon Oct 18 13:35:29 2010'\n",
    "time.strftime('%l:%M%p %Z on %b %d, %Y') \n",
    "time.strftime('%l:%M%p %z on %b %d, %Y')# ' 1:36PM EDT on Oct 18, 2010'\n",
    "%cd /kaggle/working/yolov5/\n",
    "time.strftime('%l:%M%p %z on %b %d, %Y')\n",
    "!python train.py --imgsz 1080 --batch -1 --epochs 100 --data '/kaggle/working/yolov5/r6trt-2/data.yaml' --cfg ./models/yolov5s.yaml --weights /kaggle/working/RRRR/RRRR14/weights/best.pt --name RRRR  --freeze 10 --cache ram --workers 4 --patience 100 --project /kaggle/working/RRRR --device 0\n",
    "time.strftime('%l:%M%p %z on %b %d, %Y') # ' 1:36PM EST on Oct 18, 2010'"
   ]
  }
 ],
 "metadata": {
  "kernelspec": {
   "display_name": "Python 3",
   "language": "python",
   "name": "python3"
  },
  "language_info": {
   "codemirror_mode": {
    "name": "ipython",
    "version": 3
   },
   "file_extension": ".py",
   "mimetype": "text/x-python",
   "name": "python",
   "nbconvert_exporter": "python",
   "pygments_lexer": "ipython3",
   "version": "3.7.12"
  },
  "papermill": {
   "default_parameters": {},
   "duration": 936.008497,
   "end_time": "2023-04-03T05:21:06.262986",
   "environment_variables": {},
   "exception": null,
   "input_path": "__notebook__.ipynb",
   "output_path": "__notebook__.ipynb",
   "parameters": {},
   "start_time": "2023-04-03T05:05:30.254489",
   "version": "2.4.0"
  }
 },
 "nbformat": 4,
 "nbformat_minor": 5
}
